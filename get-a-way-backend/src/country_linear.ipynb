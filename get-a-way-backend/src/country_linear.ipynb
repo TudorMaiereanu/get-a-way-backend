{
 "cells": [
  {
   "cell_type": "code",
   "execution_count": 1,
   "metadata": {},
   "outputs": [],
   "source": [
    "import pandas as pd\n",
    "import numpy as np\n",
    "import warnings\n",
    "import datetime as dt\n",
    "from datetime import date, timedelta\n",
    "from functools import reduce\n",
    "import math\n",
    "import seaborn as sns\n",
    "import matplotlib.pyplot as plt\n",
    "\n",
    "\n",
    "warnings.simplefilter(\"ignore\")\n",
    "\n",
    "# set plot style\n",
    "plt.style.use('seaborn')\n",
    "plt.rcParams['figure.figsize'] = (14.0, 5.0)\n",
    "plt.rcParams['figure.dpi'] = 400"
   ]
  },
  {
   "cell_type": "code",
   "execution_count": 2,
   "metadata": {},
   "outputs": [],
   "source": [
    "from sklearn.decomposition import PCA\n",
    "from sklearn.feature_selection import SelectKBest, mutual_info_regression\n",
    "from sklearn.gaussian_process import GaussianProcessRegressor as GPR\n",
    "from sklearn.model_selection import GridSearchCV\n",
    "from sklearn.pipeline import Pipeline\n",
    "from sklearn.metrics import mean_absolute_error, mean_squared_error\n",
    "import sklearn.metrics as metrics"
   ]
  },
  {
   "cell_type": "code",
   "execution_count": 3,
   "metadata": {},
   "outputs": [],
   "source": [
    "def getDates():\n",
    "    base = date(2020, 1, 23)\n",
    "    delta = (date.today()-timedelta(1)) - base\n",
    "    return [base + timedelta(days=x) for x in range(delta.days+1)]\n",
    "\n",
    "def graphData(df, name):\n",
    "    country = df[df[\"Country\"] == name].groupby(\"Country\").sum()\n",
    "    graph = country.iloc[0,2:len(df)]\n",
    "    return graph, graph.index \n",
    "\n",
    "def getCleanData():\n",
    "    pbar = ProgressBar()\n",
    "    df = pd.read_csv('https://raw.githubusercontent.com/CSSEGISandData/COVID-19/master/csse_covid_19_data/csse_covid_19_daily_reports/01-22-2020.csv')\n",
    "    df.rename(columns={'Province/State':'Province_State', 'Country/Region':'Country_Region', 'Latitude':'Lat', 'Longitude':'Long'}, inplace=True)\n",
    "    for date in pbar(date_list):\n",
    "        url = 'https://raw.githubusercontent.com/CSSEGISandData/COVID-19/master/csse_covid_19_data/csse_covid_19_daily_reports/{}.csv'.format(date.strftime(\"%m-%d-%Y\"))\n",
    "        df_temp = pd.read_csv(url)\n",
    "        df_temp.rename(columns={'Province/State':'Province_State', 'Country/Region':'Country_Region', 'Latitude':'Lat', 'Longitude':'Long', 'Long_':'Long'}, inplace=True)\n",
    "        df = df.append(df_temp)\n",
    "    return df\n",
    "\n",
    "def readRenameSumTotal(url):\n",
    "    df = pd.read_csv(url)\n",
    "    df.rename(columns={\"Province/State\":\"Prov\", \"Country/Region\":\"Country\"}, inplace=True)\n",
    "    cases_sum = df.sum()[-1]\n",
    "    df.loc[\"Total\"] = df.sum()\n",
    "    df.iloc[-1,1] = \"Worldwide\"\n",
    "    return df, cases_sum\n",
    "\n",
    "def getDatewiseOverall(dataframes):\n",
    "    labels = ['Confirmed', 'Deaths', 'Recovered']\n",
    "    column_names = [\"Date\", \"Datetime\", \"Confirmed\", \"Deaths\", \"Recovered\"]\n",
    "    dfs = []\n",
    "    for i in range(len(dataframes)):\n",
    "        series = dataframes[i].drop(['Lat', 'Long', 'Country', 'Prov'], axis=1).iloc[-1, :].T\n",
    "        df = pd.DataFrame({'Date':series.index, labels[i]:series.values})\n",
    "        dfs.append(df)\n",
    "    df = reduce(lambda left,right: pd.merge(left,right,on='Date'), dfs)\n",
    "    df[\"Datetime\"]=pd.to_datetime(df[\"Date\"])\n",
    "    return df.reindex(columns=column_names)\n",
    "\n",
    "def getAppleCountryData(df, countryname):\n",
    "    mob = df.copy()\n",
    "    mob.drop(['alternative_name'], axis=1, inplace=True)\n",
    "    countrydf = mob[(mob['geo_type'] == 'country/region') & (mob['region'] == countryname)].copy()\n",
    "    countrydf.drop(['geo_type', 'region'], axis=1, inplace=True)\n",
    "    countrydf = countrydf.T\n",
    "    countrydf.columns = countrydf.iloc[0]\n",
    "    countrydf = countrydf.iloc[1:]\n",
    "    return countrydf\n",
    "\n",
    "def get_country_data(df, name):\n",
    "    spec_check = df.drop(confirmed_cases.tail(1).index,inplace=False).copy()\n",
    "    spec_check = spec_check.groupby('Country').sum()\n",
    "    spec_check.drop(['Lat', 'Long'], axis=1, inplace=True)\n",
    "    count_data = spec_check.copy()\n",
    "    count_data = count_data.T\n",
    "    return count_data[name]\n",
    "\n",
    "def create_dataset(data, window):\n",
    "    \"\"\" Create a dataset using a sliding window over the given data.\n",
    "    \n",
    "    Params:\n",
    "        data (numpy: T): array with case number time series.\n",
    "        window (int): size of the sliding window, i.e. lookback for predictions.\n",
    "    Returns:\n",
    "        x (numpy: T' x W): array with T' samples (T'=T-W), each with W values (window size)\n",
    "    \"\"\"\n",
    "    dataX, dataY = [], []\n",
    "    for i in range(len(data)-window): # !!!!!! IMPORTANT: CHANGED THIS LINE (WAS IT A BUG?)\n",
    "        a = data[i:(i+window)]\n",
    "        dataX.append(a)\n",
    "        dataY.append(data[i + window])\n",
    "    return np.array(dataX), np.array(dataY)"
   ]
  },
  {
   "cell_type": "code",
   "execution_count": 4,
   "metadata": {},
   "outputs": [
    {
     "data": {
      "text/html": [
       "<div>\n",
       "<style scoped>\n",
       "    .dataframe tbody tr th:only-of-type {\n",
       "        vertical-align: middle;\n",
       "    }\n",
       "\n",
       "    .dataframe tbody tr th {\n",
       "        vertical-align: top;\n",
       "    }\n",
       "\n",
       "    .dataframe thead th {\n",
       "        text-align: right;\n",
       "    }\n",
       "</style>\n",
       "<table border=\"1\" class=\"dataframe\">\n",
       "  <thead>\n",
       "    <tr style=\"text-align: right;\">\n",
       "      <th>Country/Region</th>\n",
       "      <th>Afghanistan</th>\n",
       "      <th>Albania</th>\n",
       "      <th>Algeria</th>\n",
       "      <th>Andorra</th>\n",
       "      <th>Angola</th>\n",
       "      <th>Antigua and Barbuda</th>\n",
       "      <th>Argentina</th>\n",
       "      <th>Armenia</th>\n",
       "      <th>Australia</th>\n",
       "      <th>Australia</th>\n",
       "      <th>...</th>\n",
       "      <th>Malawi</th>\n",
       "      <th>United Kingdom</th>\n",
       "      <th>France</th>\n",
       "      <th>South Sudan</th>\n",
       "      <th>Western Sahara</th>\n",
       "      <th>Sao Tome and Principe</th>\n",
       "      <th>Yemen</th>\n",
       "      <th>Comoros</th>\n",
       "      <th>Tajikistan</th>\n",
       "      <th>Lesotho</th>\n",
       "    </tr>\n",
       "  </thead>\n",
       "  <tbody>\n",
       "    <tr>\n",
       "      <td>6/21/20</td>\n",
       "      <td>28833</td>\n",
       "      <td>1962</td>\n",
       "      <td>11771</td>\n",
       "      <td>855</td>\n",
       "      <td>183</td>\n",
       "      <td>26</td>\n",
       "      <td>42785</td>\n",
       "      <td>20268</td>\n",
       "      <td>108</td>\n",
       "      <td>3151</td>\n",
       "      <td>...</td>\n",
       "      <td>730</td>\n",
       "      <td>13</td>\n",
       "      <td>1</td>\n",
       "      <td>1892</td>\n",
       "      <td>9</td>\n",
       "      <td>698</td>\n",
       "      <td>941</td>\n",
       "      <td>247</td>\n",
       "      <td>5457</td>\n",
       "      <td>4</td>\n",
       "    </tr>\n",
       "    <tr>\n",
       "      <td>6/22/20</td>\n",
       "      <td>29157</td>\n",
       "      <td>1995</td>\n",
       "      <td>11920</td>\n",
       "      <td>855</td>\n",
       "      <td>186</td>\n",
       "      <td>26</td>\n",
       "      <td>44931</td>\n",
       "      <td>20588</td>\n",
       "      <td>108</td>\n",
       "      <td>3150</td>\n",
       "      <td>...</td>\n",
       "      <td>749</td>\n",
       "      <td>13</td>\n",
       "      <td>1</td>\n",
       "      <td>1916</td>\n",
       "      <td>10</td>\n",
       "      <td>702</td>\n",
       "      <td>967</td>\n",
       "      <td>247</td>\n",
       "      <td>5513</td>\n",
       "      <td>12</td>\n",
       "    </tr>\n",
       "    <tr>\n",
       "      <td>6/23/20</td>\n",
       "      <td>29481</td>\n",
       "      <td>2047</td>\n",
       "      <td>12076</td>\n",
       "      <td>855</td>\n",
       "      <td>189</td>\n",
       "      <td>26</td>\n",
       "      <td>47203</td>\n",
       "      <td>21006</td>\n",
       "      <td>108</td>\n",
       "      <td>3159</td>\n",
       "      <td>...</td>\n",
       "      <td>803</td>\n",
       "      <td>13</td>\n",
       "      <td>1</td>\n",
       "      <td>1930</td>\n",
       "      <td>10</td>\n",
       "      <td>707</td>\n",
       "      <td>992</td>\n",
       "      <td>265</td>\n",
       "      <td>5567</td>\n",
       "      <td>17</td>\n",
       "    </tr>\n",
       "    <tr>\n",
       "      <td>6/24/20</td>\n",
       "      <td>29640</td>\n",
       "      <td>2114</td>\n",
       "      <td>12248</td>\n",
       "      <td>855</td>\n",
       "      <td>197</td>\n",
       "      <td>26</td>\n",
       "      <td>49851</td>\n",
       "      <td>21717</td>\n",
       "      <td>108</td>\n",
       "      <td>3162</td>\n",
       "      <td>...</td>\n",
       "      <td>941</td>\n",
       "      <td>13</td>\n",
       "      <td>1</td>\n",
       "      <td>1942</td>\n",
       "      <td>10</td>\n",
       "      <td>710</td>\n",
       "      <td>1015</td>\n",
       "      <td>265</td>\n",
       "      <td>5630</td>\n",
       "      <td>17</td>\n",
       "    </tr>\n",
       "    <tr>\n",
       "      <td>6/25/20</td>\n",
       "      <td>30175</td>\n",
       "      <td>2192</td>\n",
       "      <td>12445</td>\n",
       "      <td>855</td>\n",
       "      <td>212</td>\n",
       "      <td>65</td>\n",
       "      <td>52457</td>\n",
       "      <td>22488</td>\n",
       "      <td>108</td>\n",
       "      <td>3168</td>\n",
       "      <td>...</td>\n",
       "      <td>960</td>\n",
       "      <td>13</td>\n",
       "      <td>1</td>\n",
       "      <td>1942</td>\n",
       "      <td>10</td>\n",
       "      <td>711</td>\n",
       "      <td>1076</td>\n",
       "      <td>272</td>\n",
       "      <td>5691</td>\n",
       "      <td>17</td>\n",
       "    </tr>\n",
       "  </tbody>\n",
       "</table>\n",
       "<p>5 rows × 266 columns</p>\n",
       "</div>"
      ],
      "text/plain": [
       "Country/Region  Afghanistan  Albania  Algeria  Andorra  Angola  \\\n",
       "6/21/20               28833     1962    11771      855     183   \n",
       "6/22/20               29157     1995    11920      855     186   \n",
       "6/23/20               29481     2047    12076      855     189   \n",
       "6/24/20               29640     2114    12248      855     197   \n",
       "6/25/20               30175     2192    12445      855     212   \n",
       "\n",
       "Country/Region  Antigua and Barbuda  Argentina  Armenia  Australia  Australia  \\\n",
       "6/21/20                          26      42785    20268        108       3151   \n",
       "6/22/20                          26      44931    20588        108       3150   \n",
       "6/23/20                          26      47203    21006        108       3159   \n",
       "6/24/20                          26      49851    21717        108       3162   \n",
       "6/25/20                          65      52457    22488        108       3168   \n",
       "\n",
       "Country/Region  ...  Malawi  United Kingdom  France  South Sudan  \\\n",
       "6/21/20         ...     730              13       1         1892   \n",
       "6/22/20         ...     749              13       1         1916   \n",
       "6/23/20         ...     803              13       1         1930   \n",
       "6/24/20         ...     941              13       1         1942   \n",
       "6/25/20         ...     960              13       1         1942   \n",
       "\n",
       "Country/Region  Western Sahara  Sao Tome and Principe  Yemen  Comoros  \\\n",
       "6/21/20                      9                    698    941      247   \n",
       "6/22/20                     10                    702    967      247   \n",
       "6/23/20                     10                    707    992      265   \n",
       "6/24/20                     10                    710   1015      265   \n",
       "6/25/20                     10                    711   1076      272   \n",
       "\n",
       "Country/Region  Tajikistan  Lesotho  \n",
       "6/21/20               5457        4  \n",
       "6/22/20               5513       12  \n",
       "6/23/20               5567       17  \n",
       "6/24/20               5630       17  \n",
       "6/25/20               5691       17  \n",
       "\n",
       "[5 rows x 266 columns]"
      ]
     },
     "execution_count": 4,
     "metadata": {},
     "output_type": "execute_result"
    }
   ],
   "source": [
    "csv_url = \"https://raw.githubusercontent.com/CSSEGISandData/COVID-19/master/csse_covid_19_data/csse_covid_19_time_series/time_series_covid19_confirmed_global.csv\"\n",
    "confirmed = pd.read_csv(csv_url)\n",
    "confirmed.index = confirmed['Country/Region']\n",
    "confirmed = confirmed.drop(['Province/State', 'Lat', 'Long', 'Country/Region'], axis=1)\n",
    "confirmed = confirmed.T\n",
    "confirmed.tail()"
   ]
  },
  {
   "cell_type": "markdown",
   "metadata": {},
   "source": [
    "### Preprocessing country-specific data\n",
    "\n",
    "Preprocessing the time series data into a data matrix of fixed window sizes with scalar targets, hence making supervised learning possible. Then, split the data between training and testing (and also between data and targets). The result are the arrays `trainx_countries`, `trainy_countries`, `testx_countries`, `testy_countries`.\n",
    "\n",
    "The incoming time series data is a numpy array of dimension $D \\times C$ where $D$ is the number of days and $C$ is the number of countries."
   ]
  },
  {
   "cell_type": "code",
   "execution_count": 5,
   "metadata": {},
   "outputs": [
    {
     "data": {
      "text/plain": [
       "(80, 153)"
      ]
     },
     "execution_count": 5,
     "metadata": {},
     "output_type": "execute_result"
    }
   ],
   "source": [
    "WINDOW_SIZE = 3\n",
    "# array: days x countries\n",
    "data = confirmed.to_numpy()\n",
    "xy_per_country = [create_dataset(country_col, WINDOW_SIZE) for country_col in data.T]\n",
    "N_TOTAL = xy_per_country[0][0].shape[0]\n",
    "N_TRAIN = 80\n",
    "N_TRAIN, N_TOTAL"
   ]
  },
  {
   "cell_type": "code",
   "execution_count": 6,
   "metadata": {},
   "outputs": [],
   "source": [
    "trainx_countries = np.concatenate([x[:N_TRAIN] for x,y in xy_per_country], axis=0)\n",
    "trainy_countries = np.concatenate([y[:N_TRAIN] for x,y in xy_per_country], axis=0)\n",
    "testx_countries = np.concatenate([x[N_TRAIN:] for x,y in xy_per_country], axis=0)\n",
    "testy_countries = np.concatenate([y[N_TRAIN:] for x,y in xy_per_country], axis=0)"
   ]
  },
  {
   "cell_type": "code",
   "execution_count": 7,
   "metadata": {},
   "outputs": [
    {
     "data": {
      "text/plain": [
       "((21280, 3), (21280,), (19418, 3), (19418,))"
      ]
     },
     "execution_count": 7,
     "metadata": {},
     "output_type": "execute_result"
    }
   ],
   "source": [
    "trainx_countries.shape, trainy_countries.shape, testx_countries.shape, testy_countries.shape"
   ]
  },
  {
   "cell_type": "code",
   "execution_count": 8,
   "metadata": {},
   "outputs": [
    {
     "data": {
      "text/plain": [
       "array([0, 0, 0, ..., 0, 0, 0])"
      ]
     },
     "execution_count": 8,
     "metadata": {},
     "output_type": "execute_result"
    }
   ],
   "source": [
    "trainy_countries"
   ]
  },
  {
   "cell_type": "markdown",
   "metadata": {},
   "source": [
    "### Adding in global data\n",
    "\n",
    "We can also add in the global data. The global data is less noisy and more stable (since it is a world-wide aggregation), hence we can imagine that it will be very useful for future learning tasks. As such, we can even add in the global data multiple times to have the learning algorithm fit the global data with more focus than the country-specific data (which is noisy and less reliable)."
   ]
  },
  {
   "cell_type": "code",
   "execution_count": 9,
   "metadata": {},
   "outputs": [],
   "source": [
    "global_confirmed = confirmed.sum(axis=1)\n",
    "global_data = global_confirmed.to_numpy()\n",
    "\n",
    "# global data of the form:\n",
    "# date           number of confirmed cases\n",
    "# 1/22/20        555\n",
    "\n",
    "x_global, y_global = create_dataset(global_data, WINDOW_SIZE)\n",
    "\n",
    "trainx_global = x_global[:N_TRAIN]\n",
    "trainy_global = y_global[:N_TRAIN]\n",
    "testx_global = x_global[N_TRAIN:]\n",
    "testy_global = y_global[N_TRAIN:]"
   ]
  },
  {
   "cell_type": "code",
   "execution_count": 10,
   "metadata": {},
   "outputs": [
    {
     "data": {
      "text/plain": [
       "((80, 3), (80,), (73, 3), (73,))"
      ]
     },
     "execution_count": 10,
     "metadata": {},
     "output_type": "execute_result"
    }
   ],
   "source": [
    "trainx_global.shape, trainy_global.shape, testx_global.shape, testy_global.shape,"
   ]
  },
  {
   "cell_type": "markdown",
   "metadata": {},
   "source": [
    "### Combining country and global data together"
   ]
  },
  {
   "cell_type": "code",
   "execution_count": 11,
   "metadata": {},
   "outputs": [
    {
     "data": {
      "text/plain": [
       "(880, 3)"
      ]
     },
     "execution_count": 11,
     "metadata": {},
     "output_type": "execute_result"
    }
   ],
   "source": [
    "GLOBAL_IMPORTANCE = 1\n",
    "np.concatenate([np.repeat(trainx_global, 10, axis=0), trainx_global], axis=0).shape"
   ]
  },
  {
   "cell_type": "code",
   "execution_count": 12,
   "metadata": {},
   "outputs": [],
   "source": [
    "trainx = np.concatenate([\n",
    "    np.repeat(trainx_global, GLOBAL_IMPORTANCE, axis=0), trainx_countries\n",
    "], axis=0)\n",
    "trainy = np.concatenate([\n",
    "    np.repeat(trainy_global, GLOBAL_IMPORTANCE, axis=0), trainy_countries\n",
    "], axis=0)\n",
    "\n",
    "testx = np.concatenate([\n",
    "    np.repeat(testx_global, GLOBAL_IMPORTANCE, axis=0), testx_countries\n",
    "], axis=0)\n",
    "testy = np.concatenate([\n",
    "    np.repeat(testy_global, GLOBAL_IMPORTANCE, axis=0), testy_countries\n",
    "], axis=0)"
   ]
  },
  {
   "cell_type": "code",
   "execution_count": 13,
   "metadata": {},
   "outputs": [
    {
     "data": {
      "text/plain": [
       "((21360, 3), (21360,), (19491, 3), (19491,))"
      ]
     },
     "execution_count": 13,
     "metadata": {},
     "output_type": "execute_result"
    }
   ],
   "source": [
    "trainx.shape, trainy.shape, testx.shape, testy.shape"
   ]
  },
  {
   "cell_type": "code",
   "execution_count": 14,
   "metadata": {},
   "outputs": [
    {
     "data": {
      "text/plain": [
       "array([[ 555,  654,  941],\n",
       "       [ 654,  941, 1434],\n",
       "       [ 941, 1434, 2118],\n",
       "       ...,\n",
       "       [   0,    0,    0],\n",
       "       [   0,    0,    0],\n",
       "       [   0,    0,    0]])"
      ]
     },
     "execution_count": 14,
     "metadata": {},
     "output_type": "execute_result"
    }
   ],
   "source": [
    "# array of arrays consisting confirmed cases data for 3 days\n",
    "trainx"
   ]
  },
  {
   "cell_type": "code",
   "execution_count": 15,
   "metadata": {},
   "outputs": [
    {
     "data": {
      "text/plain": [
       "array([1434, 2118, 2927, ...,    0,    0,    0])"
      ]
     },
     "execution_count": 15,
     "metadata": {},
     "output_type": "execute_result"
    }
   ],
   "source": [
    "# array of confirmed cases number for each 4th day \n",
    "trainy"
   ]
  },
  {
   "cell_type": "markdown",
   "metadata": {},
   "source": [
    "## Regression Function"
   ]
  },
  {
   "cell_type": "code",
   "execution_count": 16,
   "metadata": {},
   "outputs": [],
   "source": [
    "from sklearn.linear_model import LinearRegression\n",
    "from sklearn.gaussian_process.kernels import Exponentiation as EXP\n",
    "from sklearn.gaussian_process.kernels import RBF as SE\n",
    "from sklearn.gaussian_process.kernels import RationalQuadratic as RQ\n",
    "from sklearn.gaussian_process.kernels import DotProduct as LIN\n",
    "from sklearn.gaussian_process.kernels import ConstantKernel as CON\n",
    "from sklearn.gaussian_process.kernels import WhiteKernel as GWN\n",
    "from sklearn.gaussian_process.kernels import ExpSineSquared"
   ]
  },
  {
   "cell_type": "code",
   "execution_count": 17,
   "metadata": {
    "scrolled": true
   },
   "outputs": [
    {
     "data": {
      "text/plain": [
       "[DotProduct(sigma_0=1),\n",
       " DotProduct(sigma_0=1) ** 2,\n",
       " DotProduct(sigma_0=1) ** 3,\n",
       " DotProduct(sigma_0=1) ** 4,\n",
       " RBF(length_scale=1),\n",
       " RationalQuadratic(alpha=1, length_scale=1),\n",
       " DotProduct(sigma_0=1) + 1**2,\n",
       " DotProduct(sigma_0=1) ** 2 + 1**2,\n",
       " DotProduct(sigma_0=1) ** 3 + 1**2,\n",
       " DotProduct(sigma_0=1) ** 4 + 1**2,\n",
       " RBF(length_scale=1) + 1**2,\n",
       " RationalQuadratic(alpha=1, length_scale=1) + 1**2]"
      ]
     },
     "execution_count": 17,
     "metadata": {},
     "output_type": "execute_result"
    }
   ],
   "source": [
    "kernels = [\n",
    "    LIN(),\n",
    "    EXP(LIN(), 2),\n",
    "    EXP(LIN(), 3),\n",
    "    EXP(LIN(), 4),\n",
    "    SE(),\n",
    "    RQ(),\n",
    "]\n",
    "kernels += [kernel + CON() for kernel in kernels]\n",
    "kernels"
   ]
  },
  {
   "cell_type": "code",
   "execution_count": 18,
   "metadata": {},
   "outputs": [],
   "source": [
    "def doRegression(trainX, trainY, testX, testY, dim_red=0, window=1):\n",
    "    \"\"\" Does Linear or Kernel Ridge Regression, with a gridsearch pipeline\n",
    "    \n",
    "    Params:\n",
    "        trainX (numpy arr): training X\n",
    "        trainY (numpy arr): training y\n",
    "        testX (numpy arr): test X\n",
    "        testY (numpy arr): test y\n",
    "        lin_or_ridge (int): 1 for LR, 2 for KRR\n",
    "        dim_red (int): 0 for none, 1 for PCA, 2 for K-means\n",
    "        window (int): size of the sliding window, i.e. lookback for predictions.\n",
    "    Returns:\n",
    "        cvR (gridsearch obj), optimisedR (optimised model), train_pred (training data preds), test_pred (test data preds)\n",
    "    \"\"\"\n",
    "    scoring = [\"neg_mean_squared_error\", \"neg_mean_absolute_error\"]\n",
    "    refit = \"neg_mean_squared_error\"\n",
    "    if dim_red == 1:\n",
    "        paramsLR = {\"reduce_dim__n_components\": [x for x in range(1,window+1)]}\n",
    "        pipelineLR = Pipeline([('reduce_dim', PCA()), ('regressor', LinearRegression())])\n",
    "        cvR = GridSearchCV(pipelineLR, paramsLR, scoring=scoring, refit=refit, cv=5, return_train_score=True)\n",
    "    \n",
    "    elif dim_red == 2:\n",
    "        paramsLR = {\"reduce_dim__k\": [x for x in range(1,window+1)]}\n",
    "        pipelineLR = Pipeline([('reduce_dim', SelectKBest()), ('regressor', LinearRegression())])\n",
    "        cvR = GridSearchCV(pipelineLR, paramsLR, scoring=scoring, refit=refit, cv=5, return_train_score=True)\n",
    "    \n",
    "    else:\n",
    "        paramsLR = {}\n",
    "        pipelineLR = Pipeline([('regressor', LinearRegression())])\n",
    "        cvR = GridSearchCV(pipelineLR, paramsLR, scoring=scoring, refit=refit, cv=5, return_train_score=True)\n",
    "\n",
    "    cvR.fit(trainX, trainY)\n",
    "    best_score, optimisedR = cvR.best_score_, cvR.best_estimator_\n",
    "#     train_pred = optimisedR.predict(trainX)\n",
    "#     test_pred = optimisedR.predict(testX)\n",
    "    \n",
    "    return cvR, optimisedR"
   ]
  },
  {
   "cell_type": "markdown",
   "metadata": {},
   "source": [
    "Global + Country Data"
   ]
  },
  {
   "cell_type": "markdown",
   "metadata": {},
   "source": [
    "# Linear regression"
   ]
  },
  {
   "cell_type": "markdown",
   "metadata": {},
   "source": [
    "## Paremeter tuning "
   ]
  },
  {
   "cell_type": "code",
   "execution_count": 19,
   "metadata": {},
   "outputs": [
    {
     "name": "stdout",
     "output_type": "stream",
     "text": [
      "1 -237.74057180753834 1\n",
      "2 -61.30729008286622 2\n",
      "3 -60.75432427936509 3\n",
      "4 -61.12886287980825 3\n",
      "5 -61.60178273646048 3\n",
      "6 -62.44639210949716 3\n",
      "7 -62.75745357756381 3\n",
      "8 -63.23359340105471 3\n",
      "9 -62.393806357786076 3\n",
      "10 -60.8161409068284 3\n",
      "11 -59.43282857816589 11\n",
      "12 -59.63599916684026 11\n",
      "13 -59.96772561621818 11\n",
      "14 -60.46735942640051 11\n"
     ]
    }
   ],
   "source": [
    "best_scores = []\n",
    "scores = []\n",
    "best = -1e9\n",
    "check = 0\n",
    "results = []\n",
    "error_test = 'mean_test_neg_mean_absolute_error'\n",
    "\n",
    "for i in range(1, 15):\n",
    "    window_size = i\n",
    "\n",
    "    xy_per_country = [create_dataset(country_col, window_size) for country_col in data.T]\n",
    "    N_TOTAL = xy_per_country[0][0].shape[0]\n",
    "    N_TRAIN = int(N_TOTAL*.8)\n",
    "    \n",
    "    trainx_countries = np.concatenate([x[:N_TRAIN] for x,y in xy_per_country], axis=0)\n",
    "    trainy_countries = np.concatenate([y[:N_TRAIN] for x,y in xy_per_country], axis=0)\n",
    "    testx_countries = np.concatenate([x[N_TRAIN:] for x,y in xy_per_country], axis=0)\n",
    "    testy_countries = np.concatenate([y[N_TRAIN:] for x,y in xy_per_country], axis=0)\n",
    "    \n",
    "    global_confirmed = confirmed.sum(axis=1)\n",
    "    global_data = global_confirmed.to_numpy()\n",
    "    x_global, y_global = create_dataset(global_data, window_size)\n",
    "\n",
    "    trainx_global = x_global[:N_TRAIN]\n",
    "    trainy_global = y_global[:N_TRAIN]\n",
    "    testx_global = x_global[N_TRAIN:]\n",
    "    testy_global = y_global[N_TRAIN:]\n",
    "\n",
    "    GLOBAL_IMPORTANCE = 1\n",
    "    np.concatenate([np.repeat(trainx_global, 10, axis=0), trainx_global], axis=0).shape\n",
    "    \n",
    "    trainx = np.concatenate([\n",
    "        np.repeat(trainx_global, GLOBAL_IMPORTANCE, axis=0), trainx_countries\n",
    "    ], axis=0)\n",
    "    trainy = np.concatenate([\n",
    "        np.repeat(trainy_global, GLOBAL_IMPORTANCE, axis=0), trainy_countries\n",
    "    ], axis=0)\n",
    "\n",
    "    testx = np.concatenate([\n",
    "        np.repeat(testx_global, GLOBAL_IMPORTANCE, axis=0), testx_countries\n",
    "    ], axis=0)\n",
    "    testy = np.concatenate([\n",
    "        np.repeat(testy_global, GLOBAL_IMPORTANCE, axis=0), testy_countries\n",
    "    ], axis=0)\n",
    "    \n",
    "    # Linear regression with no dim red     \n",
    "    cvR, optimsedR = doRegression(\n",
    "        trainX=trainx, \n",
    "        trainY=trainy,\n",
    "        testX=testx,\n",
    "        testY=testy,\n",
    "        dim_red=0,\n",
    "        window=window_size\n",
    "    )\n",
    "    \n",
    "    # Linear regression with PCA     \n",
    "    cvR_pca, optimsedR_pca = doRegression(\n",
    "        trainX=trainx, \n",
    "        trainY=trainy,\n",
    "        testX=testx,\n",
    "        testY=testy,\n",
    "        dim_red=1,\n",
    "        window=window_size\n",
    "    )\n",
    "    \n",
    "    # Linear regression with Kmeans     \n",
    "    cvR_kmeans, optimsedR_kmeans = doRegression(\n",
    "        trainX=trainx, \n",
    "        trainY=trainy,\n",
    "        testX=testx,\n",
    "        testY=testy,\n",
    "        dim_red=2,\n",
    "        window=window_size\n",
    "    )\n",
    "    \n",
    "    results.append([cvR.cv_results_, cvR_pca.cv_results_, cvR_kmeans.cv_results_])\n",
    "    \n",
    "    best_cvr = [\n",
    "        i for i in [cvR, cvR_pca, cvR_kmeans] if i.cv_results_[error_test].max() == max(cvR.cv_results_[error_test].max(), cvR_pca.cv_results_[error_test].max(), cvR_kmeans.cv_results_[error_test].max())\n",
    "    ][0]\n",
    "    \n",
    "    if (best_cvr.cv_results_[error_test].max() > best):\n",
    "        check = i\n",
    "        best = best_cvr.cv_results_[error_test].max()\n",
    "        bestScore_lr, bestcvR_lr = best_cvr.cv_results_[error_test].max(), best_cvr\n",
    "    \n",
    "    print(i, best_cvr.cv_results_[error_test].max(), check)\n",
    "    \n",
    "    best_scores.append(bestcvR_lr.cv_results_[error_test].max())\n",
    "    scores.append(bestcvR_lr.cv_results_[error_test].max())"
   ]
  },
  {
   "cell_type": "code",
   "execution_count": 20,
   "metadata": {},
   "outputs": [],
   "source": [
    "lr_model = bestcvR_lr.best_estimator_"
   ]
  },
  {
   "cell_type": "code",
   "execution_count": 21,
   "metadata": {},
   "outputs": [
    {
     "data": {
      "text/html": [
       "<div>\n",
       "<style scoped>\n",
       "    .dataframe tbody tr th:only-of-type {\n",
       "        vertical-align: middle;\n",
       "    }\n",
       "\n",
       "    .dataframe tbody tr th {\n",
       "        vertical-align: top;\n",
       "    }\n",
       "\n",
       "    .dataframe thead th {\n",
       "        text-align: right;\n",
       "    }\n",
       "</style>\n",
       "<table border=\"1\" class=\"dataframe\">\n",
       "  <thead>\n",
       "    <tr style=\"text-align: right;\">\n",
       "      <th></th>\n",
       "      <th>MAE Test</th>\n",
       "      <th>MSE Test</th>\n",
       "    </tr>\n",
       "  </thead>\n",
       "  <tbody>\n",
       "    <tr>\n",
       "      <td>Afghanistan</td>\n",
       "      <td>375.853350</td>\n",
       "      <td>141265.740831</td>\n",
       "    </tr>\n",
       "    <tr>\n",
       "      <td>Albania</td>\n",
       "      <td>16.890659</td>\n",
       "      <td>285.294367</td>\n",
       "    </tr>\n",
       "    <tr>\n",
       "      <td>Algeria</td>\n",
       "      <td>26.907407</td>\n",
       "      <td>724.008578</td>\n",
       "    </tr>\n",
       "    <tr>\n",
       "      <td>Andorra</td>\n",
       "      <td>5.280597</td>\n",
       "      <td>27.884703</td>\n",
       "    </tr>\n",
       "    <tr>\n",
       "      <td>Angola</td>\n",
       "      <td>1.052112</td>\n",
       "      <td>1.106940</td>\n",
       "    </tr>\n",
       "    <tr>\n",
       "      <td>...</td>\n",
       "      <td>...</td>\n",
       "      <td>...</td>\n",
       "    </tr>\n",
       "    <tr>\n",
       "      <td>Sao Tome and Principe</td>\n",
       "      <td>7.828879</td>\n",
       "      <td>61.291352</td>\n",
       "    </tr>\n",
       "    <tr>\n",
       "      <td>Yemen</td>\n",
       "      <td>76.331630</td>\n",
       "      <td>5826.517764</td>\n",
       "    </tr>\n",
       "    <tr>\n",
       "      <td>Comoros</td>\n",
       "      <td>3.847182</td>\n",
       "      <td>14.800808</td>\n",
       "    </tr>\n",
       "    <tr>\n",
       "      <td>Tajikistan</td>\n",
       "      <td>2.953712</td>\n",
       "      <td>8.724413</td>\n",
       "    </tr>\n",
       "    <tr>\n",
       "      <td>Lesotho</td>\n",
       "      <td>6.024643</td>\n",
       "      <td>36.296329</td>\n",
       "    </tr>\n",
       "  </tbody>\n",
       "</table>\n",
       "<p>188 rows × 2 columns</p>\n",
       "</div>"
      ],
      "text/plain": [
       "                         MAE Test       MSE Test\n",
       "Afghanistan            375.853350  141265.740831\n",
       "Albania                 16.890659     285.294367\n",
       "Algeria                 26.907407     724.008578\n",
       "Andorra                  5.280597      27.884703\n",
       "Angola                   1.052112       1.106940\n",
       "...                           ...            ...\n",
       "Sao Tome and Principe    7.828879      61.291352\n",
       "Yemen                   76.331630    5826.517764\n",
       "Comoros                  3.847182      14.800808\n",
       "Tajikistan               2.953712       8.724413\n",
       "Lesotho                  6.024643      36.296329\n",
       "\n",
       "[188 rows x 2 columns]"
      ]
     },
     "execution_count": 21,
     "metadata": {},
     "output_type": "execute_result"
    }
   ],
   "source": [
    "OPTIMAL_WINDOW = check\n",
    "\n",
    "country_err_dic_lr_av = {}\n",
    "for country_name in confirmed.columns:\n",
    "    holder = pd.DataFrame(confirmed[country_name])\n",
    "    holder['Total'] = holder.sum(axis=1)\n",
    "    holder = pd.DataFrame(holder['Total'])\n",
    "\n",
    "    country_pred_check = holder.copy()\n",
    "    country_pred_check.drop(country_pred_check.tail(1).index,inplace=True)\n",
    "    country_pred_check = country_pred_check.tail(OPTIMAL_WINDOW)\n",
    "\n",
    "    pred = lr_model.predict([country_pred_check.values.flatten()])\n",
    "\n",
    "    country_err_dic_lr_av[country_name] = {\n",
    "        \"MAE Test\": mean_absolute_error(holder.tail(1).values.flatten(), pred),\n",
    "        \"MSE Test\":mean_squared_error(holder.tail(1).values.flatten(), pred)\n",
    "    }    \n",
    "\n",
    "pd.DataFrame(country_err_dic_lr_av).T"
   ]
  },
  {
   "cell_type": "markdown",
   "metadata": {},
   "source": [
    "## Visualize predictions"
   ]
  },
  {
   "cell_type": "markdown",
   "metadata": {},
   "source": [
    "### Select test data"
   ]
  },
  {
   "cell_type": "code",
   "execution_count": 22,
   "metadata": {},
   "outputs": [],
   "source": [
    "xy_per_country = [create_dataset(country_col, OPTIMAL_WINDOW) for country_col in data.T]\n",
    "\n",
    "N_TOTAL = xy_per_country[0][0].shape[0]\n",
    "N_TRAIN = int(N_TOTAL*.8)\n",
    "\n",
    "trainx_countries = np.concatenate([x[:N_TRAIN] for x,y in xy_per_country], axis=0)\n",
    "trainy_countries = np.concatenate([y[:N_TRAIN] for x,y in xy_per_country], axis=0)\n",
    "testx_countries = np.concatenate([x[N_TRAIN:] for x,y in xy_per_country], axis=0)\n",
    "testy_countries = np.concatenate([y[N_TRAIN:] for x,y in xy_per_country], axis=0)\n",
    "\n",
    "global_confirmed = confirmed.sum(axis=1)\n",
    "global_data = global_confirmed.to_numpy()\n",
    "x_global, y_global = create_dataset(global_data, OPTIMAL_WINDOW)\n",
    "\n",
    "trainx_global = x_global[:N_TRAIN]\n",
    "trainy_global = y_global[:N_TRAIN]\n",
    "testx_global = x_global[N_TRAIN:]\n",
    "testy_global = y_global[N_TRAIN:]\n",
    "\n",
    "GLOBAL_IMPORTANCE = 1\n",
    "np.concatenate([np.repeat(trainx_global, 10, axis=0), trainx_global], axis=0).shape\n",
    "\n",
    "trainx = np.concatenate([\n",
    "    np.repeat(trainx_global, GLOBAL_IMPORTANCE, axis=0), trainx_countries\n",
    "], axis=0)\n",
    "trainy = np.concatenate([\n",
    "    np.repeat(trainy_global, GLOBAL_IMPORTANCE, axis=0), trainy_countries\n",
    "], axis=0)\n",
    "\n",
    "testx = np.concatenate([\n",
    "    np.repeat(testx_global, GLOBAL_IMPORTANCE, axis=0), testx_countries\n",
    "], axis=0)\n",
    "testy = np.concatenate([\n",
    "    np.repeat(testy_global, GLOBAL_IMPORTANCE, axis=0), testy_countries\n",
    "], axis=0)"
   ]
  },
  {
   "cell_type": "markdown",
   "metadata": {},
   "source": [
    "### Make predictions on global data"
   ]
  },
  {
   "cell_type": "code",
   "execution_count": 23,
   "metadata": {},
   "outputs": [
    {
     "data": {
      "text/plain": [
       "148.68995851553578"
      ]
     },
     "execution_count": 23,
     "metadata": {},
     "output_type": "execute_result"
    }
   ],
   "source": [
    "predictions = lr_model.predict(testx)\n",
    "mean_absolute_error(testy, predictions)"
   ]
  },
  {
   "cell_type": "code",
   "execution_count": 24,
   "metadata": {},
   "outputs": [
    {
     "data": {
      "text/html": [
       "<div>\n",
       "<style scoped>\n",
       "    .dataframe tbody tr th:only-of-type {\n",
       "        vertical-align: middle;\n",
       "    }\n",
       "\n",
       "    .dataframe tbody tr th {\n",
       "        vertical-align: top;\n",
       "    }\n",
       "\n",
       "    .dataframe thead th {\n",
       "        text-align: right;\n",
       "    }\n",
       "</style>\n",
       "<table border=\"1\" class=\"dataframe\">\n",
       "  <thead>\n",
       "    <tr style=\"text-align: right;\">\n",
       "      <th></th>\n",
       "      <th>Truth</th>\n",
       "      <th>Preds</th>\n",
       "    </tr>\n",
       "  </thead>\n",
       "  <tbody>\n",
       "    <tr>\n",
       "      <td>0</td>\n",
       "      <td>5820253</td>\n",
       "      <td>5.810029e+06</td>\n",
       "    </tr>\n",
       "    <tr>\n",
       "      <td>1</td>\n",
       "      <td>5941938</td>\n",
       "      <td>5.932087e+06</td>\n",
       "    </tr>\n",
       "    <tr>\n",
       "      <td>2</td>\n",
       "      <td>6070884</td>\n",
       "      <td>6.055355e+06</td>\n",
       "    </tr>\n",
       "    <tr>\n",
       "      <td>3</td>\n",
       "      <td>6178860</td>\n",
       "      <td>6.185365e+06</td>\n",
       "    </tr>\n",
       "    <tr>\n",
       "      <td>4</td>\n",
       "      <td>6275246</td>\n",
       "      <td>6.286833e+06</td>\n",
       "    </tr>\n",
       "    <tr>\n",
       "      <td>...</td>\n",
       "      <td>...</td>\n",
       "      <td>...</td>\n",
       "    </tr>\n",
       "    <tr>\n",
       "      <td>7738</td>\n",
       "      <td>4</td>\n",
       "      <td>8.715819e+00</td>\n",
       "    </tr>\n",
       "    <tr>\n",
       "      <td>7739</td>\n",
       "      <td>12</td>\n",
       "      <td>8.715819e+00</td>\n",
       "    </tr>\n",
       "    <tr>\n",
       "      <td>7740</td>\n",
       "      <td>17</td>\n",
       "      <td>2.082883e+01</td>\n",
       "    </tr>\n",
       "    <tr>\n",
       "      <td>7741</td>\n",
       "      <td>17</td>\n",
       "      <td>2.614373e+01</td>\n",
       "    </tr>\n",
       "    <tr>\n",
       "      <td>7742</td>\n",
       "      <td>17</td>\n",
       "      <td>2.302464e+01</td>\n",
       "    </tr>\n",
       "  </tbody>\n",
       "</table>\n",
       "<p>7743 rows × 2 columns</p>\n",
       "</div>"
      ],
      "text/plain": [
       "        Truth         Preds\n",
       "0     5820253  5.810029e+06\n",
       "1     5941938  5.932087e+06\n",
       "2     6070884  6.055355e+06\n",
       "3     6178860  6.185365e+06\n",
       "4     6275246  6.286833e+06\n",
       "...       ...           ...\n",
       "7738        4  8.715819e+00\n",
       "7739       12  8.715819e+00\n",
       "7740       17  2.082883e+01\n",
       "7741       17  2.614373e+01\n",
       "7742       17  2.302464e+01\n",
       "\n",
       "[7743 rows x 2 columns]"
      ]
     },
     "execution_count": 24,
     "metadata": {},
     "output_type": "execute_result"
    }
   ],
   "source": [
    "test_dic = {}\n",
    "test_dic[\"Truth\"] = testy\n",
    "test_dic['Preds'] = predictions\n",
    "test_df = pd.DataFrame(test_dic)\n",
    "\n",
    "test_df"
   ]
  },
  {
   "cell_type": "code",
   "execution_count": 25,
   "metadata": {},
   "outputs": [
    {
     "data": {
      "image/png": "[encoded data removed]",
      "text/plain": [
       "<Figure size 1152x720 with 1 Axes>"
      ]
     },
     "metadata": {
      "needs_background": "light"
     },
     "output_type": "display_data"
    }
   ],
   "source": [
    "df1 = test_df.sort_values(by=['Truth', 'Preds'], ascending=False).head(25)\n",
    "df1.plot(kind='bar',figsize=(16,10))\n",
    "plt.grid(which='major', linestyle='-', linewidth='0.5', color='green')\n",
    "plt.grid(which='minor', linestyle=':', linewidth='0.5', color='black')\n",
    "plt.show()"
   ]
  },
  {
   "cell_type": "code",
   "execution_count": 26,
   "metadata": {},
   "outputs": [
    {
     "data": {
      "text/plain": [
       "array([5.81002935e+06, 5.93208722e+06, 6.05535500e+06, ...,\n",
       "       2.08288255e+01, 2.61437257e+01, 2.30246435e+01])"
      ]
     },
     "execution_count": 26,
     "metadata": {},
     "output_type": "execute_result"
    }
   ],
   "source": [
    "predictions"
   ]
  },
  {
   "cell_type": "markdown",
   "metadata": {},
   "source": [
    "### Make predictions on country data"
   ]
  },
  {
   "cell_type": "code",
   "execution_count": 27,
   "metadata": {},
   "outputs": [
    {
     "data": {
      "text/plain": [
       "1/22/20         0\n",
       "1/23/20         0\n",
       "1/24/20         0\n",
       "1/25/20         0\n",
       "1/26/20         0\n",
       "            ...  \n",
       "6/21/20    191272\n",
       "6/22/20    191768\n",
       "6/23/20    192480\n",
       "6/24/20    192871\n",
       "6/25/20    193371\n",
       "Name: Germany, Length: 156, dtype: int64"
      ]
     },
     "execution_count": 27,
     "metadata": {},
     "output_type": "execute_result"
    }
   ],
   "source": [
    "country_data = confirmed[\"Germany\"]\n",
    "country_data"
   ]
  },
  {
   "cell_type": "code",
   "execution_count": 28,
   "metadata": {},
   "outputs": [],
   "source": [
    "country_test_x, country_test_y = create_dataset(country_data, OPTIMAL_WINDOW)"
   ]
  },
  {
   "cell_type": "code",
   "execution_count": 29,
   "metadata": {},
   "outputs": [
    {
     "data": {
      "text/plain": [
       "145"
      ]
     },
     "execution_count": 29,
     "metadata": {},
     "output_type": "execute_result"
    }
   ],
   "source": [
    "country_predictions = lr_model.predict(country_test_x)\n",
    "\n",
    "country_test_dic = {}\n",
    "country_test_dic[\"Truth\"] = country_test_y\n",
    "country_test_dic['Preds'] = country_predictions\n",
    "country_test_df = pd.DataFrame(country_test_dic)\n",
    "len(country_test_df)"
   ]
  },
  {
   "cell_type": "code",
   "execution_count": 30,
   "metadata": {},
   "outputs": [
    {
     "data": {
      "image/png": "[encoded data removed]",
      "text/plain": [
       "<Figure size 1152x720 with 1 Axes>"
      ]
     },
     "metadata": {
      "needs_background": "light"
     },
     "output_type": "display_data"
    }
   ],
   "source": [
    "df_country = country_test_df.sort_values(by=['Truth', 'Preds'], ascending=False).head(50)\n",
    "df_country.plot(kind='bar',figsize=(16,10))\n",
    "plt.grid(which='major', linestyle='-', linewidth='0.5', color='green')\n",
    "plt.grid(which='minor', linestyle=':', linewidth='0.5', color='black')\n",
    "plt.show()"
   ]
  },
  {
   "cell_type": "markdown",
   "metadata": {},
   "source": [
    "### Savel model"
   ]
  },
  {
   "cell_type": "code",
   "execution_count": 31,
   "metadata": {},
   "outputs": [
    {
     "data": {
      "text/plain": [
       "['corona_model.pkl']"
      ]
     },
     "execution_count": 31,
     "metadata": {},
     "output_type": "execute_result"
    }
   ],
   "source": [
    "import joblib\n",
    "\n",
    "#save model\n",
    "joblib.dump(lr_model, 'corona_model.pkl') "
   ]
  }
 ],
 "metadata": {
  "kernelspec": {
   "display_name": "Python 3",
   "language": "python",
   "name": "python3"
  },
  "language_info": {
   "codemirror_mode": {
    "name": "ipython",
    "version": 3
   },
   "file_extension": ".py",
   "mimetype": "text/x-python",
   "name": "python",
   "nbconvert_exporter": "python",
   "pygments_lexer": "ipython3",
   "version": "3.7.4"
  }
 },
 "nbformat": 4,
 "nbformat_minor": 4
}
