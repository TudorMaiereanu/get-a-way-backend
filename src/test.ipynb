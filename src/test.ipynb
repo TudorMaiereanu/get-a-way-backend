{
 "cells": [
  {
   "cell_type": "code",
   "execution_count": 1,
   "metadata": {},
   "outputs": [
    {
     "data": {
      "text/plain": [
       "[0.0285, 0.218875, 0.0285, 0.0, 0.0, 0.5, 0.195625, 0.0285]"
      ]
     },
     "execution_count": 1,
     "metadata": {},
     "output_type": "execute_result"
    }
   ],
   "source": [
    "from weights import weights\n",
    "\n",
    "p_act_hike = 1\n",
    "p_act_surf = 1\n",
    "\n",
    "# Preference: Feature (0 or 1 or 2)\n",
    "p_weather = 0\n",
    "p_corona = 2\n",
    "p_cost = 0\n",
    "p_CO2 = 2\n",
    "p_time = 0\n",
    "\n",
    "weights(p_weather, p_corona, p_cost, p_CO2, p_time,p_act_hike, p_act_surf).transpose().iloc[0, :].tolist()"
   ]
  },
  {
   "cell_type": "code",
   "execution_count": null,
   "metadata": {},
   "outputs": [],
   "source": []
  }
 ],
 "metadata": {
  "kernelspec": {
   "display_name": "Python 3",
   "language": "python",
   "name": "python3"
  },
  "language_info": {
   "codemirror_mode": {
    "name": "ipython",
    "version": 3
   },
   "file_extension": ".py",
   "mimetype": "text/x-python",
   "name": "python",
   "nbconvert_exporter": "python",
   "pygments_lexer": "ipython3",
   "version": "3.7.4"
  }
 },
 "nbformat": 4,
 "nbformat_minor": 2
}
